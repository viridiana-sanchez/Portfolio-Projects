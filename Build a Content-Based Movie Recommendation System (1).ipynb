{
 "cells": [
  {
   "cell_type": "markdown",
   "id": "8c258e93-8800-4b49-abdb-dd7b5bc79a5e",
   "metadata": {
    "tags": []
   },
   "source": [
    "# Unlock the Power of Machine Learning: Build a Content-Based Movie Recommendation System"
   ]
  },
  {
   "cell_type": "markdown",
   "id": "170c92af-ae46-4413-9c53-ceab3c3969f4",
   "metadata": {},
   "source": [
    "## Import Libraries"
   ]
  },
  {
   "cell_type": "code",
   "execution_count": 4,
   "id": "fb2073a2-9e90-4a46-8935-b207470a39f8",
   "metadata": {
    "tags": []
   },
   "outputs": [],
   "source": [
    "import pandas as pd\n",
    "from sklearn.feature_extraction.text import TfidfVectorizer\n",
    "from sklearn.metrics.pairwise import cosine_similarity\n",
    "from io import StringIO"
   ]
  },
  {
   "cell_type": "markdown",
   "id": "52baf9fe-2d57-46c5-8a80-836d7def18d6",
   "metadata": {
    "tags": []
   },
   "source": [
    "## Load the Data"
   ]
  },
  {
   "cell_type": "code",
   "execution_count": 10,
   "id": "790136cb-8d0f-40f7-9f59-33f56b513214",
   "metadata": {
    "tags": []
   },
   "outputs": [],
   "source": [
    "data = pd.read_csv('cleaned_animationmovies.csv')"
   ]
  },
  {
   "cell_type": "markdown",
   "id": "4b21dd3a-2d3e-4b5e-a9ae-dfac1d47aebb",
   "metadata": {
    "tags": []
   },
   "source": [
    "## Data Preparation and Pre-processing"
   ]
  },
  {
   "cell_type": "code",
   "execution_count": 8,
   "id": "697a8fbf-5adf-4e7a-9c4c-a783c6d2608c",
   "metadata": {
    "tags": []
   },
   "outputs": [],
   "source": [
    "data['text_features'] = data['overview'].fillna('') + ' ' + data['tagline'].fillna('')\n",
    "\n",
    "tfidf_vectorizer = TfidfVectorizer(stop_words='english')\n",
    "tfidf_matrix = tfidf_vectorizer.fit_transform(data['text_features'].astype(str))\n",
    "\n",
    "# Create a DataFrame with TF-IDF vectors\n",
    "tfidf_df = pd.DataFrame(tfidf_matrix.toarray(), columns=tfidf_vectorizer.get_feature_names_out())\n",
    "\n",
    "# Combine numerical features with TF-IDF vectors\n",
    "combined_features = pd.concat([data[['vote_average', 'popularity', 'profit']], tfidf_df], axis=1)\n",
    "\n",
    "# Calculate cosine similarity matrix\n",
    "cosine_sim_matrix = cosine_similarity(combined_features, combined_features)\n",
    "\n",
    "# Convert the cosine similarity matrix into a DataFrame for better readability\n",
    "cosine_sim_df = pd.DataFrame(cosine_sim_matrix, index=data['title'], columns=data['title'])"
   ]
  },
  {
   "cell_type": "markdown",
   "id": "2b9d0692-afc4-4f80-8ae4-de56412d05ef",
   "metadata": {
    "tags": []
   },
   "source": [
    "## Build Recommendation Function"
   ]
  },
  {
   "cell_type": "code",
   "execution_count": 8,
   "id": "ddd4b575-a182-49fb-be8c-379d08b1a52f",
   "metadata": {
    "tags": []
   },
   "outputs": [
    {
     "name": "stdin",
     "output_type": "stream",
     "text": [
      "Enter a movie title:  Up\n"
     ]
    },
    {
     "name": "stdout",
     "output_type": "stream",
     "text": [
      "Top 5 recommendations for 'Up':\n",
      "- How to Train Your Dragon: The Hidden World\n",
      "- Inside Out\n",
      "- WALL·E\n",
      "- Ratatouille\n",
      "- Brave\n"
     ]
    }
   ],
   "source": [
    "def get_recommendations(title):\n",
    "    idx = data[data['title'] == title].index[0]\n",
    "    sim_scores = list(enumerate(cosine_sim_matrix[idx]))\n",
    "    sim_scores = sorted(sim_scores, key=lambda x: x[1], reverse=True)\n",
    "    sim_movies = [(data['title'][i], i) for i, score in sim_scores[1:6]]\n",
    "    return sim_movies\n",
    "\n",
    "# Example: Get recommendations for a movie\n",
    "movie_title = input(\"Enter a movie title: \")\n",
    "\n",
    "while not movie_title.strip():\n",
    "    print(\"Please enter a valid movie title.\")\n",
    "    movie_title = input(\"Enter a movie title: \")\n",
    "\n",
    "recommendations = get_recommendations(movie_title)\n",
    "print(f\"Top 5 recommendations for '{movie_title}':\")\n",
    "for movie, idx in recommendations:\n",
    "    print(f\"- {movie}\")"
   ]
  },
  {
   "cell_type": "code",
   "execution_count": null,
   "id": "495c0c10-f927-4772-b95f-6134b53b41c1",
   "metadata": {},
   "outputs": [],
   "source": []
  }
 ],
 "metadata": {
  "kernelspec": {
   "display_name": "Python 3 (ipykernel)",
   "language": "python",
   "name": "python3"
  },
  "language_info": {
   "codemirror_mode": {
    "name": "ipython",
    "version": 3
   },
   "file_extension": ".py",
   "mimetype": "text/x-python",
   "name": "python",
   "nbconvert_exporter": "python",
   "pygments_lexer": "ipython3",
   "version": "3.11.5"
  }
 },
 "nbformat": 4,
 "nbformat_minor": 5
}
