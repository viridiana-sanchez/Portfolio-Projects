{
 "cells": [
  {
   "cell_type": "markdown",
   "id": "dbbbacf8",
   "metadata": {
    "papermill": {
     "duration": 0.006161,
     "end_time": "2024-02-21T07:08:25.043047",
     "exception": false,
     "start_time": "2024-02-21T07:08:25.036886",
     "status": "completed"
    },
    "tags": []
   },
   "source": [
    "## Install Libraries"
   ]
  },
  {
   "cell_type": "code",
   "execution_count": 1,
   "id": "fbef7e24",
   "metadata": {
    "_cell_guid": "b1076dfc-b9ad-4769-8c92-a6c4dae69d19",
    "_uuid": "8f2839f25d086af736a60e9eeb907d3b93b6e0e5",
    "execution": {
     "iopub.execute_input": "2024-02-21T07:08:25.056879Z",
     "iopub.status.busy": "2024-02-21T07:08:25.056069Z",
     "iopub.status.idle": "2024-02-21T07:08:28.442507Z",
     "shell.execute_reply": "2024-02-21T07:08:28.441254Z"
    },
    "papermill": {
     "duration": 3.396736,
     "end_time": "2024-02-21T07:08:28.445438",
     "exception": false,
     "start_time": "2024-02-21T07:08:25.048702",
     "status": "completed"
    },
    "tags": []
   },
   "outputs": [],
   "source": [
    "import os\n",
    "import json\n",
    "import pandas as pd\n",
    "import numpy as np\n",
    "import io\n",
    "import matplotlib.pyplot as plt\n",
    "import seaborn as sns\n",
    "import botocore.exceptions\n",
    "\n",
    "\n",
    "from io import StringIO\n",
    "from pandas import DataFrame\n",
    "from datetime import datetime\n",
    "from sklearn.preprocessing import MinMaxScaler\n",
    "from sklearn.model_selection import train_test_split\n",
    "from sklearn.metrics.pairwise import cosine_similarity\n",
    "from surprise import Dataset, Reader, SVD\n",
    "from surprise.model_selection import cross_validate\n"
   ]
  },
  {
   "cell_type": "markdown",
   "id": "48afd533",
   "metadata": {
    "papermill": {
     "duration": 0.004879,
     "end_time": "2024-02-21T07:08:28.455876",
     "exception": false,
     "start_time": "2024-02-21T07:08:28.450997",
     "status": "completed"
    },
    "tags": []
   },
   "source": [
    "## Data Preparation"
   ]
  },
  {
   "cell_type": "markdown",
   "id": "f035bc7f",
   "metadata": {
    "execution": {
     "iopub.execute_input": "2024-02-20T22:28:51.737714Z",
     "iopub.status.busy": "2024-02-20T22:28:51.737225Z",
     "iopub.status.idle": "2024-02-20T22:28:59.364148Z",
     "shell.execute_reply": "2024-02-20T22:28:59.362633Z",
     "shell.execute_reply.started": "2024-02-20T22:28:51.737660Z"
    },
    "papermill": {
     "duration": 0.004822,
     "end_time": "2024-02-21T07:08:28.465926",
     "exception": false,
     "start_time": "2024-02-21T07:08:28.461104",
     "status": "completed"
    },
    "tags": []
   },
   "source": [
    "### Load the datasets"
   ]
  },
  {
   "cell_type": "code",
   "execution_count": 2,
   "id": "b5585d9b",
   "metadata": {
    "execution": {
     "iopub.execute_input": "2024-02-21T07:08:28.478919Z",
     "iopub.status.busy": "2024-02-21T07:08:28.478270Z",
     "iopub.status.idle": "2024-02-21T07:08:47.823344Z",
     "shell.execute_reply": "2024-02-21T07:08:47.822045Z"
    },
    "papermill": {
     "duration": 19.355417,
     "end_time": "2024-02-21T07:08:47.826567",
     "exception": false,
     "start_time": "2024-02-21T07:08:28.471150",
     "status": "completed"
    },
    "tags": []
   },
   "outputs": [
    {
     "name": "stdout",
     "output_type": "stream",
     "text": [
      "Ratings DataFrame:\n",
      "   userId  movieId  rating   timestamp\n",
      "0       1      110     1.0  1425941529\n",
      "1       1      147     4.5  1425942435\n",
      "2       1      858     5.0  1425941523\n",
      "3       1     1221     5.0  1425941546\n",
      "4       1     1246     5.0  1425941556\n",
      "\n",
      "Links DataFrame:\n",
      "   movieId  imdbId   tmdbId\n",
      "0        1  114709    862.0\n",
      "1        2  113497   8844.0\n",
      "2        3  113228  15602.0\n",
      "3        4  114885  31357.0\n",
      "4        5  113041  11862.0\n",
      "\n",
      "Movies Metadata DataFrame:\n",
      "   adult                              belongs_to_collection    budget  \\\n",
      "0  False  {'id': 10194, 'name': 'Toy Story Collection', ...  30000000   \n",
      "1  False                                                NaN  65000000   \n",
      "2  False  {'id': 119050, 'name': 'Grumpy Old Men Collect...         0   \n",
      "3  False                                                NaN  16000000   \n",
      "4  False  {'id': 96871, 'name': 'Father of the Bride Col...         0   \n",
      "\n",
      "                                              genres  \\\n",
      "0  [{'id': 16, 'name': 'Animation'}, {'id': 35, '...   \n",
      "1  [{'id': 12, 'name': 'Adventure'}, {'id': 14, '...   \n",
      "2  [{'id': 10749, 'name': 'Romance'}, {'id': 35, ...   \n",
      "3  [{'id': 35, 'name': 'Comedy'}, {'id': 18, 'nam...   \n",
      "4                     [{'id': 35, 'name': 'Comedy'}]   \n",
      "\n",
      "                               homepage     id    imdb_id original_language  \\\n",
      "0  http://toystory.disney.com/toy-story    862  tt0114709                en   \n",
      "1                                   NaN   8844  tt0113497                en   \n",
      "2                                   NaN  15602  tt0113228                en   \n",
      "3                                   NaN  31357  tt0114885                en   \n",
      "4                                   NaN  11862  tt0113041                en   \n",
      "\n",
      "                original_title  \\\n",
      "0                    Toy Story   \n",
      "1                      Jumanji   \n",
      "2             Grumpier Old Men   \n",
      "3            Waiting to Exhale   \n",
      "4  Father of the Bride Part II   \n",
      "\n",
      "                                            overview  ... release_date  \\\n",
      "0  Led by Woody, Andy's toys live happily in his ...  ...   1995-10-30   \n",
      "1  When siblings Judy and Peter discover an encha...  ...   1995-12-15   \n",
      "2  A family wedding reignites the ancient feud be...  ...   1995-12-22   \n",
      "3  Cheated on, mistreated and stepped on, the wom...  ...   1995-12-22   \n",
      "4  Just when George Banks has recovered from his ...  ...   1995-02-10   \n",
      "\n",
      "       revenue runtime                                   spoken_languages  \\\n",
      "0  373554033.0    81.0           [{'iso_639_1': 'en', 'name': 'English'}]   \n",
      "1  262797249.0   104.0  [{'iso_639_1': 'en', 'name': 'English'}, {'iso...   \n",
      "2          0.0   101.0           [{'iso_639_1': 'en', 'name': 'English'}]   \n",
      "3   81452156.0   127.0           [{'iso_639_1': 'en', 'name': 'English'}]   \n",
      "4   76578911.0   106.0           [{'iso_639_1': 'en', 'name': 'English'}]   \n",
      "\n",
      "     status                                            tagline  \\\n",
      "0  Released                                                NaN   \n",
      "1  Released          Roll the dice and unleash the excitement!   \n",
      "2  Released  Still Yelling. Still Fighting. Still Ready for...   \n",
      "3  Released  Friends are the people who let you be yourself...   \n",
      "4  Released  Just When His World Is Back To Normal... He's ...   \n",
      "\n",
      "                         title  video vote_average vote_count  \n",
      "0                    Toy Story  False          7.7     5415.0  \n",
      "1                      Jumanji  False          6.9     2413.0  \n",
      "2             Grumpier Old Men  False          6.5       92.0  \n",
      "3            Waiting to Exhale  False          6.1       34.0  \n",
      "4  Father of the Bride Part II  False          5.7      173.0  \n",
      "\n",
      "[5 rows x 24 columns]\n"
     ]
    }
   ],
   "source": [
    "#handle data types when loading file\n",
    "movies_metadata_df = pd.read_csv('/kaggle/input/the-movies-dataset/movies_metadata.csv', dtype={'id': 'str', 'popularity': 'str'})\n",
    "ratings_df = pd.read_csv(\"/kaggle/input/the-movies-dataset/ratings.csv\")\n",
    "links_df = pd.read_csv('/kaggle/input/the-movies-dataset/links.csv')\n",
    "\n",
    "\n",
    "# Display the first few rows of each DataFrame\n",
    "print(\"Ratings DataFrame:\")\n",
    "print(ratings_df.head())\n",
    "\n",
    "print(\"\\nLinks DataFrame:\")\n",
    "print(links_df.head())\n",
    "\n",
    "print(\"\\nMovies Metadata DataFrame:\")\n",
    "print(movies_metadata_df.head())"
   ]
  },
  {
   "cell_type": "markdown",
   "id": "2a3aafd4",
   "metadata": {
    "papermill": {
     "duration": 0.005308,
     "end_time": "2024-02-21T07:08:47.837628",
     "exception": false,
     "start_time": "2024-02-21T07:08:47.832320",
     "status": "completed"
    },
    "tags": []
   },
   "source": [
    "### Merge datasets into one dataframe"
   ]
  },
  {
   "cell_type": "code",
   "execution_count": 3,
   "id": "15607e23",
   "metadata": {
    "execution": {
     "iopub.execute_input": "2024-02-21T07:08:47.850878Z",
     "iopub.status.busy": "2024-02-21T07:08:47.850425Z",
     "iopub.status.idle": "2024-02-21T07:09:12.958551Z",
     "shell.execute_reply": "2024-02-21T07:09:12.957384Z"
    },
    "papermill": {
     "duration": 25.120866,
     "end_time": "2024-02-21T07:09:12.964013",
     "exception": false,
     "start_time": "2024-02-21T07:08:47.843147",
     "status": "completed"
    },
    "tags": []
   },
   "outputs": [
    {
     "name": "stdout",
     "output_type": "stream",
     "text": [
      "Merged DataFrame:\n",
      "   userId  movieId  rating   timestamp  imdbId  tmdbId  adult  \\\n",
      "0       1      858     5.0  1425941523   68646   238.0  False   \n",
      "1       2     1210     4.0   867039325   86190  1892.0  False   \n",
      "2       2     1233     4.0   867039820   82096   387.0  False   \n",
      "3       3      858     4.0  1048076945   68646   238.0  False   \n",
      "4       4      223     4.0  1042668576  109445  2292.0  False   \n",
      "\n",
      "                               belongs_to_collection     budget  \\\n",
      "0                                                NaN          0   \n",
      "1  {'id': 329220, 'name': 'Adventures of a ...', ...          0   \n",
      "2                                                NaN     947000   \n",
      "3                                                NaN          0   \n",
      "4  {'id': 386382, 'name': 'Frozen Collection', 'p...  150000000   \n",
      "\n",
      "                                              genres  ... release_date  \\\n",
      "0                                                 []  ...   2002-02-28   \n",
      "1                     [{'id': 35, 'name': 'Comedy'}]  ...   1976-04-30   \n",
      "2  [{'id': 10749, 'name': 'Romance'}, {'id': 18, ...  ...   1934-11-23   \n",
      "3                                                 []  ...   2002-02-28   \n",
      "4  [{'id': 16, 'name': 'Animation'}, {'id': 12, '...  ...   2013-11-27   \n",
      "\n",
      "        revenue runtime                          spoken_languages    status  \\\n",
      "0  0.000000e+00    92.0                                        []       NaN   \n",
      "1  0.000000e+00    89.0  [{'iso_639_1': 'en', 'name': 'English'}]  Released   \n",
      "2  1.120000e+06    85.0  [{'iso_639_1': 'en', 'name': 'English'}]  Released   \n",
      "3  0.000000e+00    92.0                                        []       NaN   \n",
      "4  1.274219e+09   102.0  [{'iso_639_1': 'en', 'name': 'English'}]  Released   \n",
      "\n",
      "                                             tagline  \\\n",
      "0                                                NaN   \n",
      "1               He gets more than his fare share...!   \n",
      "2     Do not pass love by...It may never come again!   \n",
      "3                                                NaN   \n",
      "4  Only the act of true love will thaw a frozen h...   \n",
      "\n",
      "                         title  video vote_average vote_count  \n",
      "0               Superprodukcja  False          2.0        1.0  \n",
      "1  Adventures Of A Taxi Driver  False          6.8        4.0  \n",
      "2             The Painted Veil  False          5.2        5.0  \n",
      "3               Superprodukcja  False          2.0        1.0  \n",
      "4                       Frozen  False          7.3     5440.0  \n",
      "\n",
      "[5 rows x 30 columns]\n"
     ]
    }
   ],
   "source": [
    "# Merge 'ratings_df' and 'links_df' based on the \"movieId\" column\n",
    "ratings_links_df = pd.merge(ratings_df, links_df, on='movieId', how='inner')\n",
    "\n",
    "# Convert 'imdbId' in the merged DataFrame to object type\n",
    "ratings_links_df['imdbId'] = ratings_links_df['imdbId'].astype(str)\n",
    "\n",
    "# Merge based on the \"imdbId\" and \"id\" columns\n",
    "df = pd.merge(ratings_links_df, movies_metadata_df, left_on='imdbId', right_on='id', how='inner')\n",
    "\n",
    "# Display the resulting DataFrame\n",
    "print(\"Merged DataFrame:\")\n",
    "print(df.head())"
   ]
  },
  {
   "cell_type": "code",
   "execution_count": 4,
   "id": "3d008e10",
   "metadata": {
    "execution": {
     "iopub.execute_input": "2024-02-21T07:09:12.983582Z",
     "iopub.status.busy": "2024-02-21T07:09:12.983100Z",
     "iopub.status.idle": "2024-02-21T07:09:12.991196Z",
     "shell.execute_reply": "2024-02-21T07:09:12.990106Z"
    },
    "papermill": {
     "duration": 0.021136,
     "end_time": "2024-02-21T07:09:12.994220",
     "exception": false,
     "start_time": "2024-02-21T07:09:12.973084",
     "status": "completed"
    },
    "tags": []
   },
   "outputs": [
    {
     "data": {
      "text/plain": [
       "(2040650, 30)"
      ]
     },
     "execution_count": 4,
     "metadata": {},
     "output_type": "execute_result"
    }
   ],
   "source": [
    "df.shape"
   ]
  },
  {
   "cell_type": "code",
   "execution_count": 5,
   "id": "5ee9776a",
   "metadata": {
    "execution": {
     "iopub.execute_input": "2024-02-21T07:09:13.013893Z",
     "iopub.status.busy": "2024-02-21T07:09:13.013414Z",
     "iopub.status.idle": "2024-02-21T07:09:20.751238Z",
     "shell.execute_reply": "2024-02-21T07:09:20.750000Z"
    },
    "papermill": {
     "duration": 7.750705,
     "end_time": "2024-02-21T07:09:20.753881",
     "exception": false,
     "start_time": "2024-02-21T07:09:13.003176",
     "status": "completed"
    },
    "tags": []
   },
   "outputs": [
    {
     "data": {
      "text/html": [
       "<div>\n",
       "<style scoped>\n",
       "    .dataframe tbody tr th:only-of-type {\n",
       "        vertical-align: middle;\n",
       "    }\n",
       "\n",
       "    .dataframe tbody tr th {\n",
       "        vertical-align: top;\n",
       "    }\n",
       "\n",
       "    .dataframe thead th {\n",
       "        text-align: right;\n",
       "    }\n",
       "</style>\n",
       "<table border=\"1\" class=\"dataframe\">\n",
       "  <thead>\n",
       "    <tr style=\"text-align: right;\">\n",
       "      <th></th>\n",
       "      <th>imdbId</th>\n",
       "      <th>adult</th>\n",
       "      <th>belongs_to_collection</th>\n",
       "      <th>budget</th>\n",
       "      <th>genres</th>\n",
       "      <th>homepage</th>\n",
       "      <th>id</th>\n",
       "      <th>imdb_id</th>\n",
       "      <th>original_language</th>\n",
       "      <th>original_title</th>\n",
       "      <th>...</th>\n",
       "      <th>popularity</th>\n",
       "      <th>poster_path</th>\n",
       "      <th>production_companies</th>\n",
       "      <th>production_countries</th>\n",
       "      <th>release_date</th>\n",
       "      <th>spoken_languages</th>\n",
       "      <th>status</th>\n",
       "      <th>tagline</th>\n",
       "      <th>title</th>\n",
       "      <th>video</th>\n",
       "    </tr>\n",
       "  </thead>\n",
       "  <tbody>\n",
       "    <tr>\n",
       "      <th>count</th>\n",
       "      <td>2040650</td>\n",
       "      <td>2040650</td>\n",
       "      <td>222008</td>\n",
       "      <td>2040650</td>\n",
       "      <td>2040650</td>\n",
       "      <td>318174</td>\n",
       "      <td>2040650</td>\n",
       "      <td>2040650</td>\n",
       "      <td>2040646</td>\n",
       "      <td>2040650</td>\n",
       "      <td>...</td>\n",
       "      <td>2040650</td>\n",
       "      <td>2029476</td>\n",
       "      <td>2040650</td>\n",
       "      <td>2040650</td>\n",
       "      <td>2039524</td>\n",
       "      <td>2040650</td>\n",
       "      <td>1978831</td>\n",
       "      <td>845822</td>\n",
       "      <td>2040650</td>\n",
       "      <td>2040650</td>\n",
       "    </tr>\n",
       "    <tr>\n",
       "      <th>unique</th>\n",
       "      <td>4289</td>\n",
       "      <td>2</td>\n",
       "      <td>322</td>\n",
       "      <td>237</td>\n",
       "      <td>941</td>\n",
       "      <td>604</td>\n",
       "      <td>4289</td>\n",
       "      <td>4289</td>\n",
       "      <td>50</td>\n",
       "      <td>4261</td>\n",
       "      <td>...</td>\n",
       "      <td>4216</td>\n",
       "      <td>4273</td>\n",
       "      <td>2400</td>\n",
       "      <td>370</td>\n",
       "      <td>3473</td>\n",
       "      <td>330</td>\n",
       "      <td>4</td>\n",
       "      <td>1844</td>\n",
       "      <td>4242</td>\n",
       "      <td>2</td>\n",
       "    </tr>\n",
       "    <tr>\n",
       "      <th>top</th>\n",
       "      <td>86190</td>\n",
       "      <td>False</td>\n",
       "      <td>{'id': 329220, 'name': 'Adventures of a ...', ...</td>\n",
       "      <td>0</td>\n",
       "      <td>[{'id': 35, 'name': 'Comedy'}]</td>\n",
       "      <td>http://www.thefinalmovie.com/</td>\n",
       "      <td>86190</td>\n",
       "      <td>tt0074094</td>\n",
       "      <td>en</td>\n",
       "      <td>Adventures Of A Taxi Driver</td>\n",
       "      <td>...</td>\n",
       "      <td>0.418006</td>\n",
       "      <td>/ApTxiWvCDeEMSDH5ILI0WNmQLIw.jpg</td>\n",
       "      <td>[]</td>\n",
       "      <td>[{'iso_3166_1': 'US', 'name': 'United States o...</td>\n",
       "      <td>1976-04-30</td>\n",
       "      <td>[{'iso_639_1': 'en', 'name': 'English'}]</td>\n",
       "      <td>Released</td>\n",
       "      <td>He gets more than his fare share...!</td>\n",
       "      <td>Adventures Of A Taxi Driver</td>\n",
       "      <td>False</td>\n",
       "    </tr>\n",
       "    <tr>\n",
       "      <th>freq</th>\n",
       "      <td>62714</td>\n",
       "      <td>2040540</td>\n",
       "      <td>62714</td>\n",
       "      <td>1757722</td>\n",
       "      <td>280319</td>\n",
       "      <td>30043</td>\n",
       "      <td>62714</td>\n",
       "      <td>62714</td>\n",
       "      <td>1459131</td>\n",
       "      <td>62714</td>\n",
       "      <td>...</td>\n",
       "      <td>62714</td>\n",
       "      <td>62714</td>\n",
       "      <td>697681</td>\n",
       "      <td>725488</td>\n",
       "      <td>62714</td>\n",
       "      <td>812645</td>\n",
       "      <td>1964029</td>\n",
       "      <td>62714</td>\n",
       "      <td>62714</td>\n",
       "      <td>2038129</td>\n",
       "    </tr>\n",
       "  </tbody>\n",
       "</table>\n",
       "<p>4 rows × 21 columns</p>\n",
       "</div>"
      ],
      "text/plain": [
       "         imdbId    adult                              belongs_to_collection  \\\n",
       "count   2040650  2040650                                             222008   \n",
       "unique     4289        2                                                322   \n",
       "top       86190    False  {'id': 329220, 'name': 'Adventures of a ...', ...   \n",
       "freq      62714  2040540                                              62714   \n",
       "\n",
       "         budget                          genres  \\\n",
       "count   2040650                         2040650   \n",
       "unique      237                             941   \n",
       "top           0  [{'id': 35, 'name': 'Comedy'}]   \n",
       "freq    1757722                          280319   \n",
       "\n",
       "                             homepage       id    imdb_id original_language  \\\n",
       "count                          318174  2040650    2040650           2040646   \n",
       "unique                            604     4289       4289                50   \n",
       "top     http://www.thefinalmovie.com/    86190  tt0074094                en   \n",
       "freq                            30043    62714      62714           1459131   \n",
       "\n",
       "                     original_title  ... popularity  \\\n",
       "count                       2040650  ...    2040650   \n",
       "unique                         4261  ...       4216   \n",
       "top     Adventures Of A Taxi Driver  ...   0.418006   \n",
       "freq                          62714  ...      62714   \n",
       "\n",
       "                             poster_path production_companies  \\\n",
       "count                            2029476              2040650   \n",
       "unique                              4273                 2400   \n",
       "top     /ApTxiWvCDeEMSDH5ILI0WNmQLIw.jpg                   []   \n",
       "freq                               62714               697681   \n",
       "\n",
       "                                     production_countries release_date  \\\n",
       "count                                             2040650      2039524   \n",
       "unique                                                370         3473   \n",
       "top     [{'iso_3166_1': 'US', 'name': 'United States o...   1976-04-30   \n",
       "freq                                               725488        62714   \n",
       "\n",
       "                                spoken_languages    status  \\\n",
       "count                                    2040650   1978831   \n",
       "unique                                       330         4   \n",
       "top     [{'iso_639_1': 'en', 'name': 'English'}]  Released   \n",
       "freq                                      812645   1964029   \n",
       "\n",
       "                                     tagline                        title  \\\n",
       "count                                 845822                      2040650   \n",
       "unique                                  1844                         4242   \n",
       "top     He gets more than his fare share...!  Adventures Of A Taxi Driver   \n",
       "freq                                   62714                        62714   \n",
       "\n",
       "          video  \n",
       "count   2040650  \n",
       "unique        2  \n",
       "top       False  \n",
       "freq    2038129  \n",
       "\n",
       "[4 rows x 21 columns]"
      ]
     },
     "execution_count": 5,
     "metadata": {},
     "output_type": "execute_result"
    }
   ],
   "source": [
    "df.describe(include='object')"
   ]
  },
  {
   "cell_type": "markdown",
   "id": "65b00deb",
   "metadata": {
    "papermill": {
     "duration": 0.006074,
     "end_time": "2024-02-21T07:09:20.766162",
     "exception": false,
     "start_time": "2024-02-21T07:09:20.760088",
     "status": "completed"
    },
    "tags": []
   },
   "source": [
    "## Data Cleaning and Transformation"
   ]
  },
  {
   "cell_type": "code",
   "execution_count": 6,
   "id": "4e433cdd",
   "metadata": {
    "execution": {
     "iopub.execute_input": "2024-02-21T07:09:20.780769Z",
     "iopub.status.busy": "2024-02-21T07:09:20.780284Z",
     "iopub.status.idle": "2024-02-21T07:09:20.798092Z",
     "shell.execute_reply": "2024-02-21T07:09:20.796983Z"
    },
    "papermill": {
     "duration": 0.028331,
     "end_time": "2024-02-21T07:09:20.800685",
     "exception": false,
     "start_time": "2024-02-21T07:09:20.772354",
     "status": "completed"
    },
    "tags": []
   },
   "outputs": [
    {
     "name": "stdout",
     "output_type": "stream",
     "text": [
      "<class 'pandas.core.frame.DataFrame'>\n",
      "RangeIndex: 2040650 entries, 0 to 2040649\n",
      "Data columns (total 30 columns):\n",
      " #   Column                 Dtype  \n",
      "---  ------                 -----  \n",
      " 0   userId                 int64  \n",
      " 1   movieId                int64  \n",
      " 2   rating                 float64\n",
      " 3   timestamp              int64  \n",
      " 4   imdbId                 object \n",
      " 5   tmdbId                 float64\n",
      " 6   adult                  object \n",
      " 7   belongs_to_collection  object \n",
      " 8   budget                 object \n",
      " 9   genres                 object \n",
      " 10  homepage               object \n",
      " 11  id                     object \n",
      " 12  imdb_id                object \n",
      " 13  original_language      object \n",
      " 14  original_title         object \n",
      " 15  overview               object \n",
      " 16  popularity             object \n",
      " 17  poster_path            object \n",
      " 18  production_companies   object \n",
      " 19  production_countries   object \n",
      " 20  release_date           object \n",
      " 21  revenue                float64\n",
      " 22  runtime                float64\n",
      " 23  spoken_languages       object \n",
      " 24  status                 object \n",
      " 25  tagline                object \n",
      " 26  title                  object \n",
      " 27  video                  object \n",
      " 28  vote_average           float64\n",
      " 29  vote_count             float64\n",
      "dtypes: float64(6), int64(3), object(21)\n",
      "memory usage: 467.1+ MB\n"
     ]
    }
   ],
   "source": [
    "df.info()"
   ]
  },
  {
   "cell_type": "code",
   "execution_count": 7,
   "id": "720149d4",
   "metadata": {
    "execution": {
     "iopub.execute_input": "2024-02-21T07:09:20.816620Z",
     "iopub.status.busy": "2024-02-21T07:09:20.816137Z",
     "iopub.status.idle": "2024-02-21T07:09:21.562981Z",
     "shell.execute_reply": "2024-02-21T07:09:21.561642Z"
    },
    "papermill": {
     "duration": 0.759184,
     "end_time": "2024-02-21T07:09:21.566201",
     "exception": false,
     "start_time": "2024-02-21T07:09:20.807017",
     "status": "completed"
    },
    "tags": []
   },
   "outputs": [],
   "source": [
    "#drop irrelevant columns\n",
    "df = df.drop(['tmdbId', 'homepage', 'belongs_to_collection', 'poster_path', 'original_title', 'overview', 'status', 'tagline', 'video'], axis=1)"
   ]
  },
  {
   "cell_type": "code",
   "execution_count": 8,
   "id": "5d886f6b",
   "metadata": {
    "execution": {
     "iopub.execute_input": "2024-02-21T07:09:21.581600Z",
     "iopub.status.busy": "2024-02-21T07:09:21.581153Z",
     "iopub.status.idle": "2024-02-21T07:09:23.087593Z",
     "shell.execute_reply": "2024-02-21T07:09:23.086340Z"
    },
    "papermill": {
     "duration": 1.517307,
     "end_time": "2024-02-21T07:09:23.090147",
     "exception": false,
     "start_time": "2024-02-21T07:09:21.572840",
     "status": "completed"
    },
    "tags": []
   },
   "outputs": [
    {
     "data": {
      "text/plain": [
       "userId                      0\n",
       "movieId                     0\n",
       "rating                      0\n",
       "timestamp                   0\n",
       "imdbId                      0\n",
       "adult                       0\n",
       "budget                      0\n",
       "genres                      0\n",
       "id                          0\n",
       "imdb_id                     0\n",
       "original_language           4\n",
       "popularity                  0\n",
       "production_companies        0\n",
       "production_countries        0\n",
       "release_date             1126\n",
       "revenue                     0\n",
       "runtime                 12096\n",
       "spoken_languages            0\n",
       "title                       0\n",
       "vote_average                0\n",
       "vote_count                  0\n",
       "dtype: int64"
      ]
     },
     "execution_count": 8,
     "metadata": {},
     "output_type": "execute_result"
    }
   ],
   "source": [
    "#Check which columns have nulls\n",
    "df.isnull().sum()"
   ]
  },
  {
   "cell_type": "code",
   "execution_count": 9,
   "id": "235fbc09",
   "metadata": {
    "execution": {
     "iopub.execute_input": "2024-02-21T07:09:23.105587Z",
     "iopub.status.busy": "2024-02-21T07:09:23.105129Z",
     "iopub.status.idle": "2024-02-21T07:09:26.129900Z",
     "shell.execute_reply": "2024-02-21T07:09:26.128621Z"
    },
    "papermill": {
     "duration": 3.03616,
     "end_time": "2024-02-21T07:09:26.132840",
     "exception": false,
     "start_time": "2024-02-21T07:09:23.096680",
     "status": "completed"
    },
    "tags": []
   },
   "outputs": [
    {
     "name": "stdout",
     "output_type": "stream",
     "text": [
      "userId                  0\n",
      "movieId                 0\n",
      "rating                  0\n",
      "timestamp               0\n",
      "imdbId                  0\n",
      "adult                   0\n",
      "budget                  0\n",
      "genres                  0\n",
      "id                      0\n",
      "imdb_id                 0\n",
      "original_language       0\n",
      "popularity              0\n",
      "production_companies    0\n",
      "production_countries    0\n",
      "release_date            0\n",
      "revenue                 0\n",
      "runtime                 0\n",
      "spoken_languages        0\n",
      "title                   0\n",
      "vote_average            0\n",
      "vote_count              0\n",
      "dtype: int64\n"
     ]
    }
   ],
   "source": [
    "#Handle missing values\n",
    "df['original_language'] = df['original_language'].fillna(df['original_language'].mode()[0])\n",
    "df = df.dropna(subset=['release_date'])\n",
    "df['runtime'] = df['runtime'].fillna(df['runtime'].median())\n",
    "\n",
    "# Convert Data Types\n",
    "df['release_date'] = pd.to_datetime(df['release_date'], errors='coerce')\n",
    "\n",
    "# Check for remaining missing values\n",
    "print(df.isnull().sum())"
   ]
  },
  {
   "cell_type": "code",
   "execution_count": 10,
   "id": "4a2b6928",
   "metadata": {
    "execution": {
     "iopub.execute_input": "2024-02-21T07:09:26.148368Z",
     "iopub.status.busy": "2024-02-21T07:09:26.147860Z",
     "iopub.status.idle": "2024-02-21T07:09:26.325241Z",
     "shell.execute_reply": "2024-02-21T07:09:26.324089Z"
    },
    "papermill": {
     "duration": 0.188367,
     "end_time": "2024-02-21T07:09:26.327991",
     "exception": false,
     "start_time": "2024-02-21T07:09:26.139624",
     "status": "completed"
    },
    "tags": []
   },
   "outputs": [
    {
     "name": "stdout",
     "output_type": "stream",
     "text": [
      "userId                           int64\n",
      "movieId                          int64\n",
      "rating                         float64\n",
      "timestamp                        int64\n",
      "imdbId                          object\n",
      "adult                           object\n",
      "budget                          object\n",
      "genres                          object\n",
      "id                              object\n",
      "imdb_id                         object\n",
      "original_language               object\n",
      "popularity                      object\n",
      "production_companies            object\n",
      "production_countries            object\n",
      "release_date            datetime64[ns]\n",
      "revenue                        float64\n",
      "runtime                        float64\n",
      "spoken_languages                object\n",
      "title                           object\n",
      "vote_average                   float64\n",
      "vote_count                     float64\n",
      "year                             int32\n",
      "dtype: object\n"
     ]
    }
   ],
   "source": [
    "# Convert 'release_date' to datetime and extract the year\n",
    "df['release_date'] = pd.to_datetime(df['release_date'], errors='coerce')\n",
    "df['year'] = df['release_date'].dt.year\n",
    "\n",
    "# Check the data types\n",
    "print(df.dtypes)"
   ]
  },
  {
   "cell_type": "code",
   "execution_count": 11,
   "id": "0bcc27dc",
   "metadata": {
    "execution": {
     "iopub.execute_input": "2024-02-21T07:09:26.343831Z",
     "iopub.status.busy": "2024-02-21T07:09:26.342686Z",
     "iopub.status.idle": "2024-02-21T07:09:35.103322Z",
     "shell.execute_reply": "2024-02-21T07:09:35.101929Z"
    },
    "papermill": {
     "duration": 8.77153,
     "end_time": "2024-02-21T07:09:35.106193",
     "exception": false,
     "start_time": "2024-02-21T07:09:26.334663",
     "status": "completed"
    },
    "tags": []
   },
   "outputs": [
    {
     "name": "stdout",
     "output_type": "stream",
     "text": [
      "   userId  movieId  rating                        title  vote_average  \\\n",
      "0       1      858     5.0               Superprodukcja           2.0   \n",
      "1       2     1210     4.0  Adventures Of A Taxi Driver           6.8   \n",
      "2       2     1233     4.0             The Painted Veil           5.2   \n",
      "3       3      858     4.0               Superprodukcja           2.0   \n",
      "4       4      223     4.0                       Frozen           7.3   \n",
      "\n",
      "   popularity  \n",
      "0    0.053215  \n",
      "1    0.418006  \n",
      "2    0.631309  \n",
      "3    0.053215  \n",
      "4   24.248243  \n",
      "DataFrame saved to /kaggle/working/final_data.csv\n",
      "<class 'pandas.core.frame.DataFrame'>\n",
      "Index: 2039524 entries, 0 to 2040649\n",
      "Data columns (total 6 columns):\n",
      " #   Column        Dtype  \n",
      "---  ------        -----  \n",
      " 0   userId        int64  \n",
      " 1   movieId       int64  \n",
      " 2   rating        float64\n",
      " 3   title         object \n",
      " 4   vote_average  float64\n",
      " 5   popularity    float64\n",
      "dtypes: float64(3), int64(2), object(1)\n",
      "memory usage: 108.9+ MB\n"
     ]
    }
   ],
   "source": [
    "# Convert 'popularity' to float in the 'data' DataFrame\n",
    "df['popularity'] = pd.to_numeric(df['popularity'], errors='coerce')\n",
    "\n",
    "\n",
    "# Select relevant features\n",
    "selected_features = df[['userId', 'movieId', 'rating', 'title', 'vote_average', 'popularity']]\n",
    "\n",
    "# Display the updated DataFrame\n",
    "print(selected_features.head())\n",
    "\n",
    "# Drop columns not in the list\n",
    "final_data = selected_features.copy()\n",
    "\n",
    "# Specify the file path where you want to save the CSV file\n",
    "csv_file_path = '/kaggle/working/final_data.csv'\n",
    "\n",
    "# Save the DataFrame to CSV\n",
    "final_data.to_csv(csv_file_path, index=False)\n",
    "\n",
    "# Print a message indicating the successful save\n",
    "print(f\"DataFrame saved to {csv_file_path}\")\n",
    "\n",
    "\n",
    "\n",
    "final_data.info()"
   ]
  },
  {
   "cell_type": "code",
   "execution_count": 12,
   "id": "71a100f5",
   "metadata": {
    "execution": {
     "iopub.execute_input": "2024-02-21T07:09:35.122552Z",
     "iopub.status.busy": "2024-02-21T07:09:35.122100Z",
     "iopub.status.idle": "2024-02-21T07:09:37.357214Z",
     "shell.execute_reply": "2024-02-21T07:09:37.355894Z"
    },
    "papermill": {
     "duration": 2.246868,
     "end_time": "2024-02-21T07:09:37.360174",
     "exception": false,
     "start_time": "2024-02-21T07:09:35.113306",
     "status": "completed"
    },
    "tags": []
   },
   "outputs": [],
   "source": [
    "# Load data using Surprise\n",
    "reader = Reader(rating_scale=(1, 5))\n",
    "surprise_data = Dataset.load_from_df(final_data[['userId', 'movieId', 'rating']], reader)\n"
   ]
  },
  {
   "cell_type": "code",
   "execution_count": 13,
   "id": "0f63adc9",
   "metadata": {
    "execution": {
     "iopub.execute_input": "2024-02-21T07:09:37.376870Z",
     "iopub.status.busy": "2024-02-21T07:09:37.376398Z",
     "iopub.status.idle": "2024-02-21T07:10:06.324731Z",
     "shell.execute_reply": "2024-02-21T07:10:06.323417Z"
    },
    "papermill": {
     "duration": 28.959771,
     "end_time": "2024-02-21T07:10:06.327243",
     "exception": false,
     "start_time": "2024-02-21T07:09:37.367472",
     "status": "completed"
    },
    "tags": []
   },
   "outputs": [
    {
     "data": {
      "text/plain": [
       "<surprise.prediction_algorithms.matrix_factorization.SVD at 0x7cbe3e55ffd0>"
      ]
     },
     "execution_count": 13,
     "metadata": {},
     "output_type": "execute_result"
    }
   ],
   "source": [
    "algo = SVD()\n",
    "trainset = surprise_data.build_full_trainset()\n",
    "algo.fit(trainset)\n"
   ]
  },
  {
   "cell_type": "code",
   "execution_count": 14,
   "id": "f8d0a41b",
   "metadata": {
    "execution": {
     "iopub.execute_input": "2024-02-21T07:10:06.344097Z",
     "iopub.status.busy": "2024-02-21T07:10:06.342740Z",
     "iopub.status.idle": "2024-02-21T07:14:28.567334Z",
     "shell.execute_reply": "2024-02-21T07:14:28.565483Z"
    },
    "papermill": {
     "duration": 262.243799,
     "end_time": "2024-02-21T07:14:28.578195",
     "exception": false,
     "start_time": "2024-02-21T07:10:06.334396",
     "status": "completed"
    },
    "tags": []
   },
   "outputs": [
    {
     "name": "stdout",
     "output_type": "stream",
     "text": [
      "Predicted rating for user 1 and movie Adventures Of A Taxi Driver: 3.6563104295639577\n",
      "Evaluating RMSE, MAE of algorithm SVD on 5 split(s).\n",
      "\n",
      "                  Fold 1  Fold 2  Fold 3  Fold 4  Fold 5  Mean    Std     \n",
      "RMSE (testset)    0.8877  0.8865  0.8887  0.8878  0.8896  0.8881  0.0010  \n",
      "MAE (testset)     0.6825  0.6818  0.6829  0.6823  0.6831  0.6825  0.0005  \n",
      "Fit time          37.07   38.35   38.31   38.00   37.43   37.83   0.50    \n",
      "Test time         5.91    5.77    5.88    5.92    7.20    6.13    0.54    \n"
     ]
    }
   ],
   "source": [
    "# Mapping between raw and inner movie IDs\n",
    "raw_movie_ids = [trainset.to_raw_iid(inner_id) for inner_id in range(trainset.n_items)]\n",
    "movie_titles = final_data.loc[final_data['movieId'].isin(raw_movie_ids), ['movieId', 'title']].drop_duplicates()\n",
    "\n",
    "# Make predictions\n",
    "user_id = 1\n",
    "item_id = 1\n",
    "raw_item_id = trainset.to_raw_iid(item_id)\n",
    "movie_title = movie_titles.loc[movie_titles['movieId'] == raw_item_id, 'title'].values[0]\n",
    "\n",
    "prediction = algo.predict(user_id, item_id)\n",
    "print(f\"Predicted rating for user {user_id} and movie {movie_title}: {prediction.est}\")\n",
    "\n",
    "# Evaluate the model (optional)\n",
    "cross_validate(algo, surprise_data, measures=['RMSE', 'MAE'], cv=5, verbose=True)\n",
    "\n",
    "# Generate top-N recommendations for a user\n",
    "user_id = 1\n",
    "user_items = trainset.ur[user_id]\n",
    "user_unseen_items = [item for item in trainset.all_items() if item not in user_items]\n",
    "predictions = [algo.predict(user_id, item) for item in user_unseen_items]"
   ]
  },
  {
   "cell_type": "code",
   "execution_count": 15,
   "id": "df03d146",
   "metadata": {
    "execution": {
     "iopub.execute_input": "2024-02-21T07:14:28.595718Z",
     "iopub.status.busy": "2024-02-21T07:14:28.595093Z",
     "iopub.status.idle": "2024-02-21T07:14:28.613435Z",
     "shell.execute_reply": "2024-02-21T07:14:28.611869Z"
    },
    "papermill": {
     "duration": 0.030591,
     "end_time": "2024-02-21T07:14:28.616090",
     "exception": false,
     "start_time": "2024-02-21T07:14:28.585499",
     "status": "completed"
    },
    "tags": []
   },
   "outputs": [
    {
     "name": "stdout",
     "output_type": "stream",
     "text": [
      "\n",
      "Top 10 recommended movies for user 1:\n",
      "\n",
      "                                   Movie Title  Predicted Rating\n",
      "189                                 Neighbours          4.462816\n",
      "11984               ...tick... tick... tick...          4.381289\n",
      "19462                      Alone Yet Not Alone          4.372779\n",
      "28651                                Blind Man          4.347605\n",
      "30735    How Much Wood Would a Woodchuck Chuck          4.302680\n",
      "65892             Nora Roberts' Midnight Bayou          4.266929\n",
      "255934                The Trial of Joan of Arc          4.262242\n",
      "348823                      Band Baaja Baaraat          4.257988\n",
      "349336          After the Wall: A World United          4.242694\n",
      "1139038                      The Invisible Man          4.232530\n"
     ]
    }
   ],
   "source": [
    "# Get top-N recommendations with movie titles\n",
    "top_n = sorted(predictions, key=lambda x: x.est, reverse=True)[:10]\n",
    "top_n_movie_ids = [trainset.to_raw_iid(prediction.iid) for prediction in top_n]\n",
    "top_n_movie_titles = movie_titles.loc[movie_titles['movieId'].isin(top_n_movie_ids), 'title']\n",
    "\n",
    "# Create a DataFrame for better presentation\n",
    "top_n_df = pd.DataFrame({'Movie Title': top_n_movie_titles, 'Predicted Rating': [pred.est for pred in top_n]})\n",
    "\n",
    "print(f\"\\nTop 10 recommended movies for user {user_id}:\\n\")\n",
    "print(top_n_df)\n"
   ]
  },
  {
   "cell_type": "code",
   "execution_count": null,
   "id": "f88142e3",
   "metadata": {
    "papermill": {
     "duration": 0.00694,
     "end_time": "2024-02-21T07:14:28.630761",
     "exception": false,
     "start_time": "2024-02-21T07:14:28.623821",
     "status": "completed"
    },
    "tags": []
   },
   "outputs": [],
   "source": []
  }
 ],
 "metadata": {
  "kaggle": {
   "accelerator": "none",
   "dataSources": [
    {
     "datasetId": 3405,
     "sourceId": 6663,
     "sourceType": "datasetVersion"
    }
   ],
   "dockerImageVersionId": 30646,
   "isGpuEnabled": false,
   "isInternetEnabled": true,
   "language": "python",
   "sourceType": "notebook"
  },
  "kernelspec": {
   "display_name": "Python 3",
   "language": "python",
   "name": "python3"
  },
  "language_info": {
   "codemirror_mode": {
    "name": "ipython",
    "version": 3
   },
   "file_extension": ".py",
   "mimetype": "text/x-python",
   "name": "python",
   "nbconvert_exporter": "python",
   "pygments_lexer": "ipython3",
   "version": "3.10.13"
  },
  "papermill": {
   "default_parameters": {},
   "duration": 369.448825,
   "end_time": "2024-02-21T07:14:31.361528",
   "environment_variables": {},
   "exception": null,
   "input_path": "__notebook__.ipynb",
   "output_path": "__notebook__.ipynb",
   "parameters": {},
   "start_time": "2024-02-21T07:08:21.912703",
   "version": "2.5.0"
  }
 },
 "nbformat": 4,
 "nbformat_minor": 5
}
